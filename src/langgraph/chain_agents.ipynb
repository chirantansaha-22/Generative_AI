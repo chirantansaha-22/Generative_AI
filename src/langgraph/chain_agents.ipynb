{
 "cells": [
  {
   "cell_type": "code",
   "execution_count": 2,
   "metadata": {},
   "outputs": [],
   "source": [
    "from langchain_openai import ChatOpenAI\n",
    "from langchain_core.messages import HumanMessage, AIMessage, SystemMessage"
   ]
  },
  {
   "cell_type": "code",
   "execution_count": 3,
   "metadata": {},
   "outputs": [],
   "source": [
    "from dotenv import load_dotenv\n",
    "import os\n",
    "load_dotenv()\n",
    "\n",
    "api_key = os.getenv(\"OPENAI_API_KEY\")"
   ]
  },
  {
   "cell_type": "code",
   "execution_count": 21,
   "metadata": {},
   "outputs": [
    {
     "name": "stdout",
     "output_type": "stream",
     "text": [
      "================================\u001b[1m System Message \u001b[0m================================\n",
      "\n",
      "You are an helpful AI assistant capable of performing mathematical calculations in addition to providing general responses\n",
      "================================\u001b[1m Human Message \u001b[0m=================================\n",
      "Name: Chirantan\n",
      "\n",
      "I am a starter with Agentic AI.\n",
      "==================================\u001b[1m Ai Message \u001b[0m==================================\n",
      "\n",
      "That's great to hear! Agentic AI is an exciting field with a lot of potential for growth and innovation. If you have any questions or need assistance with anything related to Agentic AI or any other topic, feel free to ask!\n",
      "================================\u001b[1m Human Message \u001b[0m=================================\n",
      "Name: Chirantan\n",
      "\n",
      "How can I improve my knowledge about this topic and strategy to lear this faster?\n",
      "To improve your knowledge about Agentic AI, you can consider the following strategies:\n",
      "\n",
      "1. Start with the basics: Familiarize yourself with the fundamental concepts and principles of Agentic AI, such as machine learning, deep learning, natural language processing, and computer vision.\n",
      "\n",
      "2. Take online courses: Enroll in online courses or tutorials on platforms like Coursera, Udemy, or edX to deepen your understanding of Agentic AI.\n",
      "\n",
      "3. Read books and research papers: Explore textbooks, research papers, and articles written by experts in the field to stay updated on the latest advancements and trends.\n",
      "\n",
      "4. Join online communities: Participate in forums, discussion groups, and online communities dedicated to Agentic AI to connect with like-minded individuals and share knowledge.\n",
      "\n",
      "5. Hands-on practice: Apply your knowledge by working on projects, coding exercises, or building your own AI models to gain practical experience.\n",
      "\n",
      "6. Seek mentorship: Find a mentor or join a mentorship program to receive guidance, feedback, and support from experienced professionals in the field.\n",
      "\n",
      "By combining these strategies and staying curious and persistent, you can accelerate your learning process and enhance your knowledge of Agentic AI.\n"
     ]
    }
   ],
   "source": [
    "messages = [\n",
    "    SystemMessage(content=\"You are an helpful AI assistant capable of performing mathematical calculations in addition to providing general responses\"),\n",
    "    HumanMessage(content=\"I am a starter with Agentic AI.\", name=\"Chirantan\")\n",
    "]\n",
    "\n",
    "llm = ChatOpenAI(api_key=api_key, temperature=0.7, model=\"gpt-3.5-turbo\")\n",
    "messages.append(llm.invoke(messages))\n",
    "\n",
    "messages.append(HumanMessage(content=\"How can I improve my knowledge about this topic and strategy to lear this faster?\",name=\"Chirantan\"))\n",
    "from pprint import pprint\n",
    "for message in messages:\n",
    "    message.pretty_print()\n",
    "\n",
    "response = llm.invoke(messages)\n",
    "print(response.content)\n"
   ]
  },
  {
   "cell_type": "code",
   "execution_count": 23,
   "metadata": {},
   "outputs": [
    {
     "data": {
      "text/plain": [
       "{'token_usage': {'completion_tokens': 237,\n",
       "  'prompt_tokens': 117,\n",
       "  'total_tokens': 354,\n",
       "  'completion_tokens_details': {'accepted_prediction_tokens': 0,\n",
       "   'audio_tokens': 0,\n",
       "   'reasoning_tokens': 0,\n",
       "   'rejected_prediction_tokens': 0},\n",
       "  'prompt_tokens_details': {'audio_tokens': 0, 'cached_tokens': 0}},\n",
       " 'model_name': 'gpt-3.5-turbo-0125',\n",
       " 'system_fingerprint': None,\n",
       " 'finish_reason': 'stop',\n",
       " 'logprobs': None}"
      ]
     },
     "execution_count": 23,
     "metadata": {},
     "output_type": "execute_result"
    }
   ],
   "source": [
    "response.response_metadata"
   ]
  },
  {
   "cell_type": "markdown",
   "metadata": {},
   "source": [
    "### 1) Adding a tool"
   ]
  },
  {
   "cell_type": "code",
   "execution_count": 24,
   "metadata": {},
   "outputs": [],
   "source": [
    "def multiply(a: int, b: int) -> int:\n",
    "    \"\"\"Multiply a and b.\n",
    "\n",
    "    Args:\n",
    "        a: first int\n",
    "        b: second int\n",
    "    \"\"\"\n",
    "    return a * b\n"
   ]
  },
  {
   "cell_type": "markdown",
   "metadata": {},
   "source": [
    "#### 1.1) Bind llm with tool(s)"
   ]
  },
  {
   "cell_type": "code",
   "execution_count": 25,
   "metadata": {},
   "outputs": [],
   "source": [
    "llm_with_tools = llm.bind_tools([multiply])"
   ]
  },
  {
   "cell_type": "code",
   "execution_count": 32,
   "metadata": {},
   "outputs": [
    {
     "name": "stdout",
     "output_type": "stream",
     "text": [
      "==================================\u001b[1m Ai Message \u001b[0m==================================\n",
      "Tool Calls:\n",
      "  multiply (call_99KxbfzFFCo6MtV3V5jV2mFA)\n",
      " Call ID: call_99KxbfzFFCo6MtV3V5jV2mFA\n",
      "  Args:\n",
      "    a: 5\n",
      "    b: 6\n",
      "[{'name': 'multiply', 'args': {'a': 5, 'b': 6}, 'id': 'call_99KxbfzFFCo6MtV3V5jV2mFA', 'type': 'tool_call'}]\n"
     ]
    }
   ],
   "source": [
    "message2 = [HumanMessage(content=\"What is 5 multiplied by 6?\", name=\"Chirantan\")]\n",
    "response = llm_with_tools.invoke(message2)\n",
    "response.pretty_print()\n",
    "print(response.tool_calls)"
   ]
  },
  {
   "cell_type": "markdown",
   "metadata": {},
   "source": [
    "#### 1.2) Use messages as State for our graph with Reducers"
   ]
  },
  {
   "cell_type": "code",
   "execution_count": 38,
   "metadata": {},
   "outputs": [
    {
     "data": {
      "image/png": "[encoded data removed]",
      "text/plain": [
       "<IPython.core.display.Image object>"
      ]
     },
     "metadata": {},
     "output_type": "display_data"
    },
    {
     "name": "stdout",
     "output_type": "stream",
     "text": [
      "{'messages': [HumanMessage(content='Hi I am Chirantan!', additional_kwargs={}, response_metadata={}, id='63fba4d5-9c85-4e73-8f93-8e2aac721d41'), AIMessage(content='Hello Chirantan! How can I assist you today?', additional_kwargs={'refusal': None}, response_metadata={'token_usage': {'completion_tokens': 14, 'prompt_tokens': 62, 'total_tokens': 76, 'completion_tokens_details': {'accepted_prediction_tokens': 0, 'audio_tokens': 0, 'reasoning_tokens': 0, 'rejected_prediction_tokens': 0}, 'prompt_tokens_details': {'audio_tokens': 0, 'cached_tokens': 0}}, 'model_name': 'gpt-3.5-turbo-0125', 'system_fingerprint': None, 'finish_reason': 'stop', 'logprobs': None}, id='run-8c6cb66b-a9cf-448e-90ed-f7c17b9e5586-0', usage_metadata={'input_tokens': 62, 'output_tokens': 14, 'total_tokens': 76, 'input_token_details': {'audio': 0, 'cache_read': 0}, 'output_token_details': {'audio': 0, 'reasoning': 0}})]}\n",
      "================================\u001b[1m Human Message \u001b[0m=================================\n",
      "\n",
      "Hi I am Chirantan!\n",
      "==================================\u001b[1m Ai Message \u001b[0m==================================\n",
      "\n",
      "Hello Chirantan! How can I assist you today?\n"
     ]
    }
   ],
   "source": [
    "from langgraph.graph import StateGraph, START, END\n",
    "from langgraph.graph.message import add_messages\n",
    "from langchain_core.messages import AnyMessage, HumanMessage, AIMessage\n",
    "from typing_extensions import TypedDict\n",
    "from typing import Annotated\n",
    "from IPython.display import display, Image\n",
    "\n",
    "class MyState(TypedDict):\n",
    "    messages: Annotated[list[AnyMessage],add_messages]\n",
    "\n",
    "\n",
    "# Node \n",
    "# Defining a node(which is an LLM defined in step 1.1 using our State)\n",
    "def llm_node(state):\n",
    "    return {\"messages\":llm_with_tools.invoke(state[\"messages\"] )}\n",
    "\n",
    "\n",
    "graph_builder = StateGraph(MyState)\n",
    "\n",
    "graph_builder.add_node(\"llm_node\",llm_node)\n",
    "\n",
    "\n",
    "graph_builder.add_edge(START,\"llm_node\")\n",
    "graph_builder.add_edge(\"llm_node\",END)\n",
    "\n",
    "graph = graph_builder.compile()\n",
    "\n",
    "display(Image(graph.get_graph().draw_mermaid_png()))\n",
    "\n",
    "response = graph.invoke({\"messages\": HumanMessage(content=\"Hi I am Chirantan!\")})\n",
    "print(response)\n",
    "\n",
    "for message in response[\"messages\"]:\n",
    "    message.pretty_print()"
   ]
  },
  {
   "cell_type": "code",
   "execution_count": 39,
   "metadata": {},
   "outputs": [
    {
     "name": "stdout",
     "output_type": "stream",
     "text": [
      "================================\u001b[1m Human Message \u001b[0m=================================\n",
      "Name: Chirantan\n",
      "\n",
      "What is 5 multiplied by 6?\n",
      "==================================\u001b[1m Ai Message \u001b[0m==================================\n",
      "Tool Calls:\n",
      "  multiply (call_ddmYpkFcHr2EVMRfwf0STXmh)\n",
      " Call ID: call_ddmYpkFcHr2EVMRfwf0STXmh\n",
      "  Args:\n",
      "    a: 5\n",
      "    b: 6\n"
     ]
    }
   ],
   "source": [
    "response = graph.invoke({\"messages\":HumanMessage(content=\"What is 5 multiplied by 6?\", name=\"Chirantan\")})\n",
    "for message in response[\"messages\"]:\n",
    "    message.pretty_print()"
   ]
  },
  {
   "cell_type": "markdown",
   "metadata": {},
   "source": [
    "#### 1.3) "
   ]
  },
  {
   "cell_type": "code",
   "execution_count": 41,
   "metadata": {},
   "outputs": [
    {
     "data": {
      "image/png": "[encoded data removed]",
      "text/plain": [
       "<IPython.core.display.Image object>"
      ]
     },
     "metadata": {},
     "output_type": "display_data"
    },
    {
     "name": "stdout",
     "output_type": "stream",
     "text": [
      "\n",
      "## case 1 - invoke with a message which odes NOT requires the tool \"multiply\" to be called\n",
      "      \n",
      "{'messages': [HumanMessage(content='Hi I am Rahul!', additional_kwargs={}, response_metadata={}, id='e495c98c-69be-4e70-b90f-0b8428e9b5c2'), AIMessage(content='Hello Rahul! How can I assist you today?', additional_kwargs={'refusal': None}, response_metadata={'token_usage': {'completion_tokens': 12, 'prompt_tokens': 60, 'total_tokens': 72, 'completion_tokens_details': {'accepted_prediction_tokens': 0, 'audio_tokens': 0, 'reasoning_tokens': 0, 'rejected_prediction_tokens': 0}, 'prompt_tokens_details': {'audio_tokens': 0, 'cached_tokens': 0}}, 'model_name': 'gpt-3.5-turbo-0125', 'system_fingerprint': None, 'finish_reason': 'stop', 'logprobs': None}, id='run-463d5dcb-90ba-44a6-9f57-c4df278ed540-0', usage_metadata={'input_tokens': 60, 'output_tokens': 12, 'total_tokens': 72, 'input_token_details': {'audio': 0, 'cache_read': 0}, 'output_token_details': {'audio': 0, 'reasoning': 0}})]}\n",
      "================================\u001b[1m Human Message \u001b[0m=================================\n",
      "\n",
      "Hi I am Rahul!\n",
      "==================================\u001b[1m Ai Message \u001b[0m==================================\n",
      "\n",
      "Hello Rahul! How can I assist you today?\n",
      "\n",
      "## case 2 - invoke with a message which requires the tool \"multiply\" to be called\n",
      "      \n",
      "{'messages': [HumanMessage(content='What is 5 multiplied by 310?', additional_kwargs={}, response_metadata={}, name='Chirantan', id='ad4a1494-b6f6-4ee4-ae62-b5a27634ed64'), AIMessage(content='', additional_kwargs={'tool_calls': [{'id': 'call_bEm8iBspqdlmUrc1odfl4Pnp', 'function': {'arguments': '{\"a\":5,\"b\":310}', 'name': 'multiply'}, 'type': 'function'}], 'refusal': None}, response_metadata={'token_usage': {'completion_tokens': 18, 'prompt_tokens': 68, 'total_tokens': 86, 'completion_tokens_details': {'accepted_prediction_tokens': 0, 'audio_tokens': 0, 'reasoning_tokens': 0, 'rejected_prediction_tokens': 0}, 'prompt_tokens_details': {'audio_tokens': 0, 'cached_tokens': 0}}, 'model_name': 'gpt-3.5-turbo-0125', 'system_fingerprint': None, 'finish_reason': 'tool_calls', 'logprobs': None}, id='run-e9009dd2-b714-4289-a711-e32414c8a383-0', tool_calls=[{'name': 'multiply', 'args': {'a': 5, 'b': 310}, 'id': 'call_bEm8iBspqdlmUrc1odfl4Pnp', 'type': 'tool_call'}], usage_metadata={'input_tokens': 68, 'output_tokens': 18, 'total_tokens': 86, 'input_token_details': {'audio': 0, 'cache_read': 0}, 'output_token_details': {'audio': 0, 'reasoning': 0}}), ToolMessage(content='1550', name='multiply', id='394db1f7-24b4-44aa-935c-2fbaa46d87cf', tool_call_id='call_bEm8iBspqdlmUrc1odfl4Pnp')]}\n",
      "================================\u001b[1m Human Message \u001b[0m=================================\n",
      "Name: Chirantan\n",
      "\n",
      "What is 5 multiplied by 310?\n",
      "==================================\u001b[1m Ai Message \u001b[0m==================================\n",
      "Tool Calls:\n",
      "  multiply (call_bEm8iBspqdlmUrc1odfl4Pnp)\n",
      " Call ID: call_bEm8iBspqdlmUrc1odfl4Pnp\n",
      "  Args:\n",
      "    a: 5\n",
      "    b: 310\n",
      "=================================\u001b[1m Tool Message \u001b[0m=================================\n",
      "Name: multiply\n",
      "\n",
      "1550\n"
     ]
    }
   ],
   "source": [
    "from langgraph.graph import StateGraph, START, END\n",
    "from langgraph.graph.message import add_messages\n",
    "from langchain_core.messages import AnyMessage, HumanMessage, AIMessage\n",
    "#from typing_extensions import TypedDict\n",
    "from typing import Annotated\n",
    "from IPython.display import display, Image\n",
    "\n",
    "## Additional imports needed for creating ToolNode\n",
    "from langgraph.graph import MessagesState\n",
    "from langgraph.prebuilt import ToolNode, tools_condition\n",
    "\n",
    "class MyState(MessagesState):\n",
    "    # We dont need to add messages key like we did in previous section as langraph has already made this available as pre-built\n",
    "    # Any other key apart from \"message\" can be added.\n",
    "    # Hence commenting out the below key\n",
    "    # messages: Annotated[list[AnyMessage],add_messages]\n",
    "    pass\n",
    "\n",
    "\n",
    "# Node \n",
    "# Defining a node(which is an LLM defined in step 1.1 using our State)\n",
    "def llm_node(state):\n",
    "    return {\"messages\":llm_with_tools.invoke(state[\"messages\"] )}\n",
    "\n",
    "\n",
    "graph_builder = StateGraph(MyState)\n",
    "\n",
    "graph_builder.add_node(\"llm_node\",llm_node)\n",
    "graph_builder.add_node(\"tools\",ToolNode([multiply]))\n",
    "\n",
    "\n",
    "graph_builder.add_edge(START,\"llm_node\")\n",
    "graph_builder.add_conditional_edges(\"llm_node\",tools_condition)\n",
    "# If the latest message (result) from assistant is a tool call -> tools_condition routes to tools\n",
    "# (remember the previous section's response, where it did not actually call the tool, but returned a tool_calls)\n",
    "# If the latest message (result) from assistant is a not a tool call -> tools_condition routes to END\n",
    "graph_builder.add_edge(\"tools\",END)\n",
    "\n",
    "graph = graph_builder.compile()\n",
    "\n",
    "display(Image(graph.get_graph().draw_mermaid_png()))\n",
    "\n",
    "print(\"\"\"\n",
    "## case 1 - invoke with a message which odes NOT requires the tool \"multiply\" to be called\n",
    "      \"\"\")\n",
    "response = graph.invoke({\"messages\": HumanMessage(content=\"Hi I am Rahul!\")})\n",
    "print(response)\n",
    "\n",
    "for message in response[\"messages\"]:\n",
    "    message.pretty_print()\n",
    "\n",
    "print(\"\"\"\n",
    "## case 2 - invoke with a message which requires the tool \"multiply\" to be called\n",
    "      \"\"\")\n",
    "response2 = graph.invoke({\"messages\": HumanMessage(content=\"What is 5 multiplied by 310?\", name=\"Chirantan\")})\n",
    "print(response2)\n",
    "\n",
    "for message in response2[\"messages\"]:\n",
    "    message.pretty_print()"
   ]
  },
  {
   "cell_type": "code",
   "execution_count": null,
   "metadata": {},
   "outputs": [],
   "source": []
  }
 ],
 "metadata": {
  "kernelspec": {
   "display_name": "Python 3",
   "language": "python",
   "name": "python3"
  },
  "language_info": {
   "codemirror_mode": {
    "name": "ipython",
    "version": 3
   },
   "file_extension": ".py",
   "mimetype": "text/x-python",
   "name": "python",
   "nbconvert_exporter": "python",
   "pygments_lexer": "ipython3",
   "version": "3.13.1"
  }
 },
 "nbformat": 4,
 "nbformat_minor": 2
}
