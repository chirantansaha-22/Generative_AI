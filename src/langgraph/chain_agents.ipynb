{
 "cells": [
  {
   "cell_type": "code",
   "execution_count": 2,
   "metadata": {},
   "outputs": [],
   "source": [
    "from langchain_openai import ChatOpenAI\n",
    "from langchain_core.messages import HumanMessage, AIMessage, SystemMessage"
   ]
  },
  {
   "cell_type": "code",
   "execution_count": 3,
   "metadata": {},
   "outputs": [],
   "source": [
    "from dotenv import load_dotenv\n",
    "import os\n",
    "load_dotenv()\n",
    "\n",
    "api_key = os.getenv(\"OPENAI_API_KEY\")"
   ]
  },
  {
   "cell_type": "code",
   "execution_count": 21,
   "metadata": {},
   "outputs": [
    {
     "name": "stdout",
     "output_type": "stream",
     "text": [
      "================================\u001b[1m System Message \u001b[0m================================\n",
      "\n",
      "You are an helpful AI assistant capable of performing mathematical calculations in addition to providing general responses\n",
      "================================\u001b[1m Human Message \u001b[0m=================================\n",
      "Name: Chirantan\n",
      "\n",
      "I am a starter with Agentic AI.\n",
      "==================================\u001b[1m Ai Message \u001b[0m==================================\n",
      "\n",
      "That's great to hear! Agentic AI is an exciting field with a lot of potential for growth and innovation. If you have any questions or need assistance with anything related to Agentic AI or any other topic, feel free to ask!\n",
      "================================\u001b[1m Human Message \u001b[0m=================================\n",
      "Name: Chirantan\n",
      "\n",
      "How can I improve my knowledge about this topic and strategy to lear this faster?\n",
      "To improve your knowledge about Agentic AI, you can consider the following strategies:\n",
      "\n",
      "1. Start with the basics: Familiarize yourself with the fundamental concepts and principles of Agentic AI, such as machine learning, deep learning, natural language processing, and computer vision.\n",
      "\n",
      "2. Take online courses: Enroll in online courses or tutorials on platforms like Coursera, Udemy, or edX to deepen your understanding of Agentic AI.\n",
      "\n",
      "3. Read books and research papers: Explore textbooks, research papers, and articles written by experts in the field to stay updated on the latest advancements and trends.\n",
      "\n",
      "4. Join online communities: Participate in forums, discussion groups, and online communities dedicated to Agentic AI to connect with like-minded individuals and share knowledge.\n",
      "\n",
      "5. Hands-on practice: Apply your knowledge by working on projects, coding exercises, or building your own AI models to gain practical experience.\n",
      "\n",
      "6. Seek mentorship: Find a mentor or join a mentorship program to receive guidance, feedback, and support from experienced professionals in the field.\n",
      "\n",
      "By combining these strategies and staying curious and persistent, you can accelerate your learning process and enhance your knowledge of Agentic AI.\n"
     ]
    }
   ],
   "source": [
    "messages = [\n",
    "    SystemMessage(content=\"You are an helpful AI assistant capable of performing mathematical calculations in addition to providing general responses\"),\n",
    "    HumanMessage(content=\"I am a starter with Agentic AI.\", name=\"Chirantan\")\n",
    "]\n",
    "\n",
    "llm = ChatOpenAI(api_key=api_key, temperature=0.7, model=\"gpt-3.5-turbo\")\n",
    "messages.append(llm.invoke(messages))\n",
    "\n",
    "messages.append(HumanMessage(content=\"How can I improve my knowledge about this topic and strategy to lear this faster?\",name=\"Chirantan\"))\n",
    "from pprint import pprint\n",
    "for message in messages:\n",
    "    message.pretty_print()\n",
    "\n",
    "response = llm.invoke(messages)\n",
    "print(response.content)\n"
   ]
  },
  {
   "cell_type": "code",
   "execution_count": 17,
   "metadata": {},
   "outputs": [],
   "source": []
  },
  {
   "cell_type": "code",
   "execution_count": 18,
   "metadata": {},
   "outputs": [
    {
     "name": "stdout",
     "output_type": "stream",
     "text": [
      "================================\u001b[1m System Message \u001b[0m================================\n",
      "\n",
      "You are an helpful AI assistant capable of performing mathematical calculations in addition to providing general responses\n",
      "================================\u001b[1m Human Message \u001b[0m=================================\n",
      "Name: Chirantan\n",
      "\n",
      "I am a starter with Agentic AI.\n",
      "==================================\u001b[1m Ai Message \u001b[0m==================================\n",
      "\n",
      "That's great to hear! Agentic AI can be a powerful tool for automating tasks and improving efficiency. If you have any questions or need assistance with anything related to Agentic AI or any other topic, feel free to ask!\n",
      "================================\u001b[1m Human Message \u001b[0m=================================\n",
      "Name: Chirantan\n",
      "\n",
      "How can I improve my knowledge sense and strategy?\n"
     ]
    }
   ],
   "source": []
  },
  {
   "cell_type": "code",
   "execution_count": 26,
   "metadata": {},
   "outputs": [],
   "source": []
  }
 ],
 "metadata": {
  "kernelspec": {
   "display_name": "Python 3",
   "language": "python",
   "name": "python3"
  },
  "language_info": {
   "codemirror_mode": {
    "name": "ipython",
    "version": 3
   },
   "file_extension": ".py",
   "mimetype": "text/x-python",
   "name": "python",
   "nbconvert_exporter": "python",
   "pygments_lexer": "ipython3",
   "version": "3.13.1"
  }
 },
 "nbformat": 4,
 "nbformat_minor": 2
}
